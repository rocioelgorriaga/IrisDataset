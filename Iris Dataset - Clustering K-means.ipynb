{
 "cells": [
  {
   "cell_type": "markdown",
   "metadata": {
    "id": "A6ofV6HC_ScT"
   },
   "source": [
    "# Iris Dataset with Clustering K-Means\n",
    "Like many machine-learning algorithms, decision trees can be used for both classification and regression problems. When we implement the trees for regression, each time a new branch is created, the predicted value for the dependent variable will be the average of the observations that fall within it. Thus, the criterion to separate will be the one that minimizes the error between the real values and the predicted value."
   ]
  },
  {
   "cell_type": "markdown",
   "metadata": {
    "id": "CTa23lYdEML5"
   },
   "source": [
    "### Load dataset\n"
   ]
  },
  {
   "cell_type": "code",
   "execution_count": 56,
   "metadata": {
    "colab": {
     "base_uri": "https://localhost:8080/"
    },
    "id": "qOOm67sfHF1P",
    "outputId": "19a612b1-6433-466d-ffe4-8beeee9dee6d"
   },
   "outputs": [],
   "source": [
    "# General libraries and drive mounting\n",
    "import pandas as pd \n",
    "import matplotlib.pyplot as plt \n",
    "import numpy as np \n",
    "import seaborn as sns"
   ]
  },
  {
   "cell_type": "markdown",
   "metadata": {
    "id": "77gF7-naF4C8"
   },
   "source": [
    "Scikit-learn modules for classification trees and metrics to evaluate our model:"
   ]
  },
  {
   "cell_type": "code",
   "execution_count": 57,
   "metadata": {
    "id": "LpBNdB5nGJsL"
   },
   "outputs": [],
   "source": [
    "# importamos los algoritmos de clusterizacion a utilizar en esta notebook\n",
    "from sklearn.cluster import KMeans                    # K-means\n",
    "from sklearn.cluster import AgglomerativeClustering   # Clustering jerárquicofrom sklearn import preprocessing # No se usó en este\n",
    "from sklearn import preprocessing\n",
    "\n",
    "# Módulos utiles para evaluar el modelo \n",
    "from sklearn.model_selection import train_test_split # Para separar en train y test\n",
    "from sklearn.metrics import plot_confusion_matrix"
   ]
  },
  {
   "cell_type": "code",
   "execution_count": 58,
   "metadata": {},
   "outputs": [],
   "source": [
    "from sklearn.datasets import load_iris\n",
    "data = load_iris()\n",
    "species = [data['target_names'][x] for x in data['target']]\n",
    "df = pd.DataFrame(np.column_stack([data['data']]), columns=data['feature_names'])"
   ]
  },
  {
   "cell_type": "markdown",
   "metadata": {},
   "source": [
    "## Exploratory Data Analysis"
   ]
  },
  {
   "cell_type": "code",
   "execution_count": 59,
   "metadata": {
    "colab": {
     "base_uri": "https://localhost:8080/",
     "height": 224
    },
    "id": "OIrIx7mRHrrd",
    "outputId": "bd4c4798-02bd-4258-8b8e-bfcd62729d52"
   },
   "outputs": [
    {
     "name": "stdout",
     "output_type": "stream",
     "text": [
      "Dimension of the dataset: (150, 4)\n"
     ]
    },
    {
     "data": {
      "text/html": [
       "<div>\n",
       "<style scoped>\n",
       "    .dataframe tbody tr th:only-of-type {\n",
       "        vertical-align: middle;\n",
       "    }\n",
       "\n",
       "    .dataframe tbody tr th {\n",
       "        vertical-align: top;\n",
       "    }\n",
       "\n",
       "    .dataframe thead th {\n",
       "        text-align: right;\n",
       "    }\n",
       "</style>\n",
       "<table border=\"1\" class=\"dataframe\">\n",
       "  <thead>\n",
       "    <tr style=\"text-align: right;\">\n",
       "      <th></th>\n",
       "      <th>sepal length (cm)</th>\n",
       "      <th>sepal width (cm)</th>\n",
       "      <th>petal length (cm)</th>\n",
       "      <th>petal width (cm)</th>\n",
       "    </tr>\n",
       "  </thead>\n",
       "  <tbody>\n",
       "    <tr>\n",
       "      <th>0</th>\n",
       "      <td>5.1</td>\n",
       "      <td>3.5</td>\n",
       "      <td>1.4</td>\n",
       "      <td>0.2</td>\n",
       "    </tr>\n",
       "    <tr>\n",
       "      <th>1</th>\n",
       "      <td>4.9</td>\n",
       "      <td>3.0</td>\n",
       "      <td>1.4</td>\n",
       "      <td>0.2</td>\n",
       "    </tr>\n",
       "    <tr>\n",
       "      <th>2</th>\n",
       "      <td>4.7</td>\n",
       "      <td>3.2</td>\n",
       "      <td>1.3</td>\n",
       "      <td>0.2</td>\n",
       "    </tr>\n",
       "    <tr>\n",
       "      <th>3</th>\n",
       "      <td>4.6</td>\n",
       "      <td>3.1</td>\n",
       "      <td>1.5</td>\n",
       "      <td>0.2</td>\n",
       "    </tr>\n",
       "    <tr>\n",
       "      <th>4</th>\n",
       "      <td>5.0</td>\n",
       "      <td>3.6</td>\n",
       "      <td>1.4</td>\n",
       "      <td>0.2</td>\n",
       "    </tr>\n",
       "    <tr>\n",
       "      <th>...</th>\n",
       "      <td>...</td>\n",
       "      <td>...</td>\n",
       "      <td>...</td>\n",
       "      <td>...</td>\n",
       "    </tr>\n",
       "    <tr>\n",
       "      <th>95</th>\n",
       "      <td>5.7</td>\n",
       "      <td>3.0</td>\n",
       "      <td>4.2</td>\n",
       "      <td>1.2</td>\n",
       "    </tr>\n",
       "    <tr>\n",
       "      <th>96</th>\n",
       "      <td>5.7</td>\n",
       "      <td>2.9</td>\n",
       "      <td>4.2</td>\n",
       "      <td>1.3</td>\n",
       "    </tr>\n",
       "    <tr>\n",
       "      <th>97</th>\n",
       "      <td>6.2</td>\n",
       "      <td>2.9</td>\n",
       "      <td>4.3</td>\n",
       "      <td>1.3</td>\n",
       "    </tr>\n",
       "    <tr>\n",
       "      <th>98</th>\n",
       "      <td>5.1</td>\n",
       "      <td>2.5</td>\n",
       "      <td>3.0</td>\n",
       "      <td>1.1</td>\n",
       "    </tr>\n",
       "    <tr>\n",
       "      <th>99</th>\n",
       "      <td>5.7</td>\n",
       "      <td>2.8</td>\n",
       "      <td>4.1</td>\n",
       "      <td>1.3</td>\n",
       "    </tr>\n",
       "  </tbody>\n",
       "</table>\n",
       "<p>100 rows × 4 columns</p>\n",
       "</div>"
      ],
      "text/plain": [
       "    sepal length (cm)  sepal width (cm)  petal length (cm)  petal width (cm)\n",
       "0                 5.1               3.5                1.4               0.2\n",
       "1                 4.9               3.0                1.4               0.2\n",
       "2                 4.7               3.2                1.3               0.2\n",
       "3                 4.6               3.1                1.5               0.2\n",
       "4                 5.0               3.6                1.4               0.2\n",
       "..                ...               ...                ...               ...\n",
       "95                5.7               3.0                4.2               1.2\n",
       "96                5.7               2.9                4.2               1.3\n",
       "97                6.2               2.9                4.3               1.3\n",
       "98                5.1               2.5                3.0               1.1\n",
       "99                5.7               2.8                4.1               1.3\n",
       "\n",
       "[100 rows x 4 columns]"
      ]
     },
     "execution_count": 59,
     "metadata": {},
     "output_type": "execute_result"
    }
   ],
   "source": [
    "print('Dimension of the dataset: {}'.format(df.shape))\n",
    "# Preview of the data\n",
    "df.head(100)"
   ]
  },
  {
   "cell_type": "markdown",
   "metadata": {},
   "source": [
    "- There are 150 observations with 4 features each (sepal length, sepal width, petal length, petal width).\n",
    "- There are no null values, so we don't have to worry about that.\n",
    "- There are 50 observations of each species (setosa, versicolor, virginica).}\n",
    "\n"
   ]
  },
  {
   "cell_type": "code",
   "execution_count": 28,
   "metadata": {},
   "outputs": [
    {
     "name": "stdout",
     "output_type": "stream",
     "text": [
      "<class 'pandas.core.frame.DataFrame'>\n",
      "RangeIndex: 150 entries, 0 to 149\n",
      "Data columns (total 4 columns):\n",
      " #   Column             Non-Null Count  Dtype  \n",
      "---  ------             --------------  -----  \n",
      " 0   sepal length (cm)  150 non-null    float64\n",
      " 1   sepal width (cm)   150 non-null    float64\n",
      " 2   petal length (cm)  150 non-null    float64\n",
      " 3   petal width (cm)   150 non-null    float64\n",
      "dtypes: float64(4)\n",
      "memory usage: 4.8 KB\n"
     ]
    }
   ],
   "source": [
    "df.info()"
   ]
  },
  {
   "cell_type": "code",
   "execution_count": 29,
   "metadata": {},
   "outputs": [
    {
     "data": {
      "text/html": [
       "<div>\n",
       "<style scoped>\n",
       "    .dataframe tbody tr th:only-of-type {\n",
       "        vertical-align: middle;\n",
       "    }\n",
       "\n",
       "    .dataframe tbody tr th {\n",
       "        vertical-align: top;\n",
       "    }\n",
       "\n",
       "    .dataframe thead th {\n",
       "        text-align: right;\n",
       "    }\n",
       "</style>\n",
       "<table border=\"1\" class=\"dataframe\">\n",
       "  <thead>\n",
       "    <tr style=\"text-align: right;\">\n",
       "      <th></th>\n",
       "      <th>sepal length (cm)</th>\n",
       "      <th>sepal width (cm)</th>\n",
       "      <th>petal length (cm)</th>\n",
       "      <th>petal width (cm)</th>\n",
       "    </tr>\n",
       "  </thead>\n",
       "  <tbody>\n",
       "    <tr>\n",
       "      <th>count</th>\n",
       "      <td>150.000000</td>\n",
       "      <td>150.000000</td>\n",
       "      <td>150.000000</td>\n",
       "      <td>150.000000</td>\n",
       "    </tr>\n",
       "    <tr>\n",
       "      <th>mean</th>\n",
       "      <td>5.843333</td>\n",
       "      <td>3.057333</td>\n",
       "      <td>3.758000</td>\n",
       "      <td>1.199333</td>\n",
       "    </tr>\n",
       "    <tr>\n",
       "      <th>std</th>\n",
       "      <td>0.828066</td>\n",
       "      <td>0.435866</td>\n",
       "      <td>1.765298</td>\n",
       "      <td>0.762238</td>\n",
       "    </tr>\n",
       "    <tr>\n",
       "      <th>min</th>\n",
       "      <td>4.300000</td>\n",
       "      <td>2.000000</td>\n",
       "      <td>1.000000</td>\n",
       "      <td>0.100000</td>\n",
       "    </tr>\n",
       "    <tr>\n",
       "      <th>25%</th>\n",
       "      <td>5.100000</td>\n",
       "      <td>2.800000</td>\n",
       "      <td>1.600000</td>\n",
       "      <td>0.300000</td>\n",
       "    </tr>\n",
       "    <tr>\n",
       "      <th>50%</th>\n",
       "      <td>5.800000</td>\n",
       "      <td>3.000000</td>\n",
       "      <td>4.350000</td>\n",
       "      <td>1.300000</td>\n",
       "    </tr>\n",
       "    <tr>\n",
       "      <th>75%</th>\n",
       "      <td>6.400000</td>\n",
       "      <td>3.300000</td>\n",
       "      <td>5.100000</td>\n",
       "      <td>1.800000</td>\n",
       "    </tr>\n",
       "    <tr>\n",
       "      <th>max</th>\n",
       "      <td>7.900000</td>\n",
       "      <td>4.400000</td>\n",
       "      <td>6.900000</td>\n",
       "      <td>2.500000</td>\n",
       "    </tr>\n",
       "  </tbody>\n",
       "</table>\n",
       "</div>"
      ],
      "text/plain": [
       "       sepal length (cm)  sepal width (cm)  petal length (cm)  \\\n",
       "count         150.000000        150.000000         150.000000   \n",
       "mean            5.843333          3.057333           3.758000   \n",
       "std             0.828066          0.435866           1.765298   \n",
       "min             4.300000          2.000000           1.000000   \n",
       "25%             5.100000          2.800000           1.600000   \n",
       "50%             5.800000          3.000000           4.350000   \n",
       "75%             6.400000          3.300000           5.100000   \n",
       "max             7.900000          4.400000           6.900000   \n",
       "\n",
       "       petal width (cm)  \n",
       "count        150.000000  \n",
       "mean           1.199333  \n",
       "std            0.762238  \n",
       "min            0.100000  \n",
       "25%            0.300000  \n",
       "50%            1.300000  \n",
       "75%            1.800000  \n",
       "max            2.500000  "
      ]
     },
     "execution_count": 29,
     "metadata": {},
     "output_type": "execute_result"
    }
   ],
   "source": [
    "df.describe()"
   ]
  },
  {
   "cell_type": "code",
   "execution_count": 30,
   "metadata": {},
   "outputs": [
    {
     "data": {
      "text/html": [
       "<div>\n",
       "<style scoped>\n",
       "    .dataframe tbody tr th:only-of-type {\n",
       "        vertical-align: middle;\n",
       "    }\n",
       "\n",
       "    .dataframe tbody tr th {\n",
       "        vertical-align: top;\n",
       "    }\n",
       "\n",
       "    .dataframe thead th {\n",
       "        text-align: right;\n",
       "    }\n",
       "</style>\n",
       "<table border=\"1\" class=\"dataframe\">\n",
       "  <thead>\n",
       "    <tr style=\"text-align: right;\">\n",
       "      <th></th>\n",
       "      <th>variable</th>\n",
       "      <th>q_nan</th>\n",
       "      <th>p_nan</th>\n",
       "      <th>q_zeros</th>\n",
       "      <th>p_zeros</th>\n",
       "      <th>unique</th>\n",
       "      <th>type</th>\n",
       "    </tr>\n",
       "  </thead>\n",
       "  <tbody>\n",
       "    <tr>\n",
       "      <th>0</th>\n",
       "      <td>sepal length (cm)</td>\n",
       "      <td>0</td>\n",
       "      <td>0.0</td>\n",
       "      <td>0</td>\n",
       "      <td>0.0</td>\n",
       "      <td>35</td>\n",
       "      <td>float64</td>\n",
       "    </tr>\n",
       "    <tr>\n",
       "      <th>1</th>\n",
       "      <td>sepal width (cm)</td>\n",
       "      <td>0</td>\n",
       "      <td>0.0</td>\n",
       "      <td>0</td>\n",
       "      <td>0.0</td>\n",
       "      <td>23</td>\n",
       "      <td>float64</td>\n",
       "    </tr>\n",
       "    <tr>\n",
       "      <th>2</th>\n",
       "      <td>petal length (cm)</td>\n",
       "      <td>0</td>\n",
       "      <td>0.0</td>\n",
       "      <td>0</td>\n",
       "      <td>0.0</td>\n",
       "      <td>43</td>\n",
       "      <td>float64</td>\n",
       "    </tr>\n",
       "    <tr>\n",
       "      <th>3</th>\n",
       "      <td>petal width (cm)</td>\n",
       "      <td>0</td>\n",
       "      <td>0.0</td>\n",
       "      <td>0</td>\n",
       "      <td>0.0</td>\n",
       "      <td>22</td>\n",
       "      <td>float64</td>\n",
       "    </tr>\n",
       "  </tbody>\n",
       "</table>\n",
       "</div>"
      ],
      "text/plain": [
       "            variable  q_nan  p_nan  q_zeros  p_zeros  unique     type\n",
       "0  sepal length (cm)      0    0.0        0      0.0      35  float64\n",
       "1   sepal width (cm)      0    0.0        0      0.0      23  float64\n",
       "2  petal length (cm)      0    0.0        0      0.0      43  float64\n",
       "3   petal width (cm)      0    0.0        0      0.0      22  float64"
      ]
     },
     "execution_count": 30,
     "metadata": {},
     "output_type": "execute_result"
    }
   ],
   "source": [
    "from funpymodeling.exploratory import status\n",
    "\n",
    "status(df)"
   ]
  },
  {
   "cell_type": "markdown",
   "metadata": {},
   "source": [
    "Analyze how many of each species we have to predict"
   ]
  },
  {
   "cell_type": "code",
   "execution_count": null,
   "metadata": {},
   "outputs": [],
   "source": []
  },
  {
   "cell_type": "markdown",
   "metadata": {
    "id": "6tnyQs2sMRaP"
   },
   "source": [
    "## Construction of the model: Clustering K-Means\n"
   ]
  },
  {
   "cell_type": "markdown",
   "metadata": {},
   "source": [
    "In this notebook we are going to explore two clustering methods seen in the lecture. The clustering methods that we will see correspond to the ML branch of unsupervised learning where the main idea is to find groups in the data that are similar to other data in the same group and the least similar possible to data in others.\n",
    "\n",
    "The method is the **K-Means** partition algorithm with the idea of segmenting the observations of the famous iris dataset"
   ]
  },
  {
   "cell_type": "markdown",
   "metadata": {},
   "source": [
    "#### [K-Means](https://scikit-learn.org/stable/modules/generated/sklearn.cluster.KMeans.html#sklearn.cluster.KMeans)\n",
    "\n",
    "The \"K-Means\" clustering method seeks to find * k * clusters in such a way that the intra-cluster variance measured, usually as the square of the Euclidean distance, is minimized. For this the algorithm:\n",
    "1) Start by finding * k centroids * and assign each sample the label corresponding to the closest centroid.\n",
    "\n",
    "2) Once the labels of all the samples have been updated, calculate the position of the k centroids (as the average of the features of the samples in each cluster).\n",
    "\n",
    "3) Relabels each sample according to the distance to the closest centroid.\n",
    "\n",
    "4) Perform steps 2 and 3 until there are no more label changes."
   ]
  },
  {
   "cell_type": "code",
   "execution_count": 60,
   "metadata": {},
   "outputs": [],
   "source": [
    "# Construction of the features matrix\n",
    "X = df.to_numpy()"
   ]
  },
  {
   "cell_type": "code",
   "execution_count": 61,
   "metadata": {},
   "outputs": [],
   "source": [
    "# Normalize features\n",
    "scaler_X = preprocessing.StandardScaler().fit(X)\n",
    "X_scaled = scaler_X.transform(X)"
   ]
  },
  {
   "cell_type": "code",
   "execution_count": 62,
   "metadata": {
    "colab": {
     "base_uri": "https://localhost:8080/"
    },
    "id": "LuKZyat5Qkpm",
    "outputId": "57b10e4c-f014-4ec1-a2fa-503c08da032d"
   },
   "outputs": [
    {
     "data": {
      "text/plain": [
       "KMeans(n_clusters=3, random_state=7)"
      ]
     },
     "execution_count": 62,
     "metadata": {},
     "output_type": "execute_result"
    }
   ],
   "source": [
    "# try other numbers for k\n",
    "# create k-mean model with k = 5\n",
    "random_state = 7\n",
    "kmeans = KMeans(n_clusters=3, random_state=random_state)\n",
    "\n",
    "# fit the model with the data reduced in principal components\n",
    "kmeans.fit(X_scaled)"
   ]
  },
  {
   "cell_type": "markdown",
   "metadata": {},
   "source": [
    "To access the labels assigned by the model to each sample we use 'kmeans.labels_'"
   ]
  },
  {
   "cell_type": "code",
   "execution_count": 52,
   "metadata": {},
   "outputs": [
    {
     "data": {
      "text/plain": [
       "(array([0]), array([10], dtype=int64))"
      ]
     },
     "execution_count": 52,
     "metadata": {},
     "output_type": "execute_result"
    }
   ],
   "source": [
    "# We look at the labels assigned to the first 10 samples and the counts that each one received \n",
    "\n",
    "np.unique(kmeans.labels_[:10], return_counts=True) "
   ]
  },
  {
   "cell_type": "markdown",
   "metadata": {},
   "source": [
    "Ideally we wanted to have a single tag in the first 10 samples since they correspond to the photos taken of a given person. However we got 6 different labels.\n",
    "\n",
    "Let's see what is happening. We are going to plot the dataset in the space of the first two main components but we are also going to assign a color to each sample that corresponds to the label assigned by the model. We are also going to graph the centroid of each cluster with an \"X\".\n",
    "\n",
    "To access the position of the centroids in the space of 100 PCs we use 'kmeans.cluster_centers_'"
   ]
  },
  {
   "cell_type": "code",
   "execution_count": 53,
   "metadata": {},
   "outputs": [
    {
     "name": "stdout",
     "output_type": "stream",
     "text": [
      "Shape de los centroids: (3, 4)\n",
      "[[-1.01457897  0.85326268 -1.30498732 -1.25489349]\n",
      " [-0.01139555 -0.87600831  0.37707573  0.31115341]\n",
      " [ 1.16743407  0.14530299  1.00302557  1.0300019 ]]\n"
     ]
    }
   ],
   "source": [
    "# save the position of the centroids\n",
    "centroids = kmeans.cluster_centers_\n",
    "\n",
    "# Print the dimension of the positions\n",
    "print(\"Shape de los centroids:\",centroids.shape)\n",
    "print(centroids)"
   ]
  },
  {
   "cell_type": "code",
   "execution_count": 54,
   "metadata": {},
   "outputs": [
    {
     "name": "stderr",
     "output_type": "stream",
     "text": [
      "No handles with labels found to put in legend.\n"
     ]
    },
    {
     "data": {
      "text/plain": [
       "Text(0, 0.5, 'sepal width (cm)')"
      ]
     },
     "execution_count": 54,
     "metadata": {},
     "output_type": "execute_result"
    },
    {
     "data": {
      "image/png": "[encoded data removed]",
      "text/plain": [
       "<Figure size 1080x504 with 1 Axes>"
      ]
     },
     "metadata": {
      "needs_background": "light"
     },
     "output_type": "display_data"
    }
   ],
   "source": [
    "# This block is similar to the previous one but adding color to each sample in the scatter plot according to the assigned label\n",
    "\n",
    "fig, ax = plt.subplots(figsize = (15, 7))\n",
    "\n",
    "# We make a scatter plot of each of the data\n",
    "ax.scatter(df['sepal length (cm)'].to_numpy(), df['sepal width (cm)'].to_numpy(), c=kmeans.labels_)\n",
    "ax.legend()\n",
    "ax.set_xlabel('sepal length (cm)')\n",
    "ax.set_ylabel('sepal width (cm)')"
   ]
  },
  {
   "cell_type": "markdown",
   "metadata": {},
   "source": [
    "We see that several of the clusters (ex: 11) do correspond to the photos of a person. In addition, in almost all of them it is possible to understand why the method is grouping the photos (ex: 9, teeth are seen in the smile)"
   ]
  },
  {
   "cell_type": "markdown",
   "metadata": {},
   "source": [
    "## Choice of the number of clusters * k *\n",
    "\n",
    "There is no consensus on how to choose the *k* parameter for the KMeans method. In some cases we have an idea of how many groups our data should be divided into and we simply choose that number. But in many other cases we do not have this information at the time of clustering.\n",
    "\n",
    "In this part we are going to see two approaches for choosing k:\n",
    "1. Elbow method\n",
    "2. Silhouette coefficient"
   ]
  },
  {
   "cell_type": "markdown",
   "metadata": {},
   "source": [
    "#### 1. [Elbow Mthod](https://en.wikipedia.org/wiki/Elbow_method_(clustering)#:~:text=In%20cluster%20analysis%2C%20the%20elbow,number%20of%20clusters%20to%20use.)\n",
    "\n",
    "A graph of the objective function is made based on the choice of k and the k corresponding to the point where adding one more cluster does not significantly lower the value we want to minimize is chosen. This can be detected by eye or by using some python package like ['kneed'](https://raghavan.usc.edu//papers/kneedle-simplex11.pdf)"
   ]
  },
  {
   "cell_type": "code",
   "execution_count": 37,
   "metadata": {},
   "outputs": [],
   "source": [
    "from kneed import KneeLocator # import the pack so we can apply the elbow method"
   ]
  },
  {
   "cell_type": "code",
   "execution_count": 38,
   "metadata": {
    "collapsed": true,
    "jupyter": {
     "outputs_hidden": true
    },
    "tags": []
   },
   "outputs": [
    {
     "name": "stdout",
     "output_type": "stream",
     "text": [
      "1\n",
      "2\n"
     ]
    },
    {
     "name": "stderr",
     "output_type": "stream",
     "text": [
      "C:\\Users\\USUARIO\\anaconda3\\lib\\site-packages\\sklearn\\cluster\\_kmeans.py:881: UserWarning: KMeans is known to have a memory leak on Windows with MKL, when there are less chunks than available threads. You can avoid it by setting the environment variable OMP_NUM_THREADS=1.\n",
      "  warnings.warn(\n"
     ]
    },
    {
     "name": "stdout",
     "output_type": "stream",
     "text": [
      "3\n",
      "4\n",
      "5\n",
      "6\n",
      "7\n",
      "8\n",
      "9\n",
      "10\n",
      "11\n",
      "12\n",
      "13\n",
      "14\n",
      "15\n",
      "16\n",
      "17\n",
      "18\n",
      "19\n",
      "20\n",
      "21\n",
      "22\n",
      "23\n",
      "24\n",
      "25\n",
      "26\n",
      "27\n",
      "28\n",
      "29\n",
      "30\n",
      "31\n",
      "32\n",
      "33\n",
      "34\n",
      "35\n",
      "36\n",
      "37\n",
      "38\n",
      "39\n"
     ]
    }
   ],
   "source": [
    "sse = [] #here we are going to save the score of the objective function\n",
    "\n",
    "for k in range(1, 40):\n",
    "  print(k)\n",
    "  kkmeans = KMeans(n_clusters=k)\n",
    "  kkmeans.fit(X_scaled)\n",
    "  sse.append(kkmeans.inertia_)"
   ]
  },
  {
   "cell_type": "code",
   "execution_count": 40,
   "metadata": {},
   "outputs": [
    {
     "data": {
      "text/plain": [
       "Text(0, 0.5, 'SSE')"
      ]
     },
     "execution_count": 40,
     "metadata": {},
     "output_type": "execute_result"
    },
    {
     "data": {
      "image/png": "[encoded data removed]",
      "text/plain": [
       "<Figure size 1080x504 with 1 Axes>"
      ]
     },
     "metadata": {
      "needs_background": "light"
     },
     "output_type": "display_data"
    }
   ],
   "source": [
    "fig, ax = plt.subplots(figsize = (15, 7))\n",
    "\n",
    "# I add these two lines to show the KneeLocator choice for the elbow in this graphic\n",
    "ax.scatter(5, sse[4], color='red', s=200) # we add a red point to the plot of size s = 200 in the place where the elbow is located\n",
    "ax.text(4.5, sse[4]-50, s=\"Elbow\")       # we add a text below to indicate what the point represents\n",
    "\n",
    "# these lines are the graph of SSEvsK\n",
    "ax.scatter(range(1, 40), sse)            \n",
    "ax.set_xticks(range(1, 40))\n",
    "ax.set_xlabel(\"Number of clusters\")\n",
    "ax.set_ylabel(\"SSE\")"
   ]
  },
  {
   "cell_type": "code",
   "execution_count": 41,
   "metadata": {},
   "outputs": [
    {
     "name": "stdout",
     "output_type": "stream",
     "text": [
      "The elbow is in k = 5\n"
     ]
    }
   ],
   "source": [
    "kl = KneeLocator(range(1, 40), sse, curve=\"convex\", direction=\"decreasing\")\n",
    "\n",
    "print(\"The elbow is in k =\", kl.elbow)"
   ]
  },
  {
   "cell_type": "code",
   "execution_count": 42,
   "metadata": {},
   "outputs": [
    {
     "name": "stderr",
     "output_type": "stream",
     "text": [
      "No handles with labels found to put in legend.\n"
     ]
    },
    {
     "data": {
      "text/plain": [
       "Text(0, 0.5, 'sepal width (cm)')"
      ]
     },
     "execution_count": 42,
     "metadata": {},
     "output_type": "execute_result"
    },
    {
     "data": {
      "image/png": "[encoded data removed]",
      "text/plain": [
       "<Figure size 1080x504 with 1 Axes>"
      ]
     },
     "metadata": {
      "needs_background": "light"
     },
     "output_type": "display_data"
    }
   ],
   "source": [
    "# Creation of the KMeans model with k = 8\n",
    "kmeans5 = KMeans(n_clusters=5)\n",
    "\n",
    "# Fit the model to data reduced in principal components\n",
    "kmeans5.fit(X_scaled)\n",
    "\n",
    "# We save the position of the centroids\n",
    "centroids5 = kmeans5.cluster_centers_\n",
    "\n",
    "# Plot\n",
    "fig, ax = plt.subplots(figsize = (15, 7))\n",
    "\n",
    "# We make a scatter plot of each of the data\n",
    "ax.scatter(X_scaled[:, 0], X_scaled[:, 1], c=kmeans5.labels_)\n",
    "ax.scatter(centroids5[:, 0], centroids5[:, 1], marker=\"X\", s=200, linewidths=2,\n",
    "            c=np.unique(kmeans5.labels_),edgecolors='black')\n",
    "ax.legend()\n",
    "ax.set_xlabel('sepal length (cm)')\n",
    "ax.set_ylabel('sepal width (cm)')"
   ]
  },
  {
   "cell_type": "markdown",
   "metadata": {},
   "source": [
    "#### 2. [Silhouette coefficient](https://en.wikipedia.org/wiki/Silhouette_(clustering))\n",
    "\n",
    "The Silhouette coefficient measures how close a sample is to the other samples in its cluster and how far it is from the samples in the closest cluster. This coefficient takes values of [-1,1], -1 would be if the clusters are overlapping and 1 that they do not touch.\n",
    "\n",
    "The Silhouette coefficient of each sample can be obtained with the class 'silhouette_samples' of sklearn.metrics\n",
    "\n",
    "The Silhouette score is the average of the Silhouette coefficients of all samples and is computed with the 'silhouette_score' class from sklearn.metrics. You have to pass the data and its labels to the function."
   ]
  },
  {
   "cell_type": "code",
   "execution_count": 43,
   "metadata": {},
   "outputs": [],
   "source": [
    "# we import the silhouette score\n",
    "from sklearn.metrics import silhouette_score"
   ]
  },
  {
   "cell_type": "code",
   "execution_count": 44,
   "metadata": {},
   "outputs": [],
   "source": [
    "# We create a list to save of the silhouette coefficients for each value of k\n",
    "silhouette_coefficients = []\n",
    "\n",
    "# It is necessary to have at least 2 clusters and at most N-1 (with N the number of samples) to obtain Silohuette coefficients\n",
    "for k in range(2, 20):\n",
    "     kkkmeans = KMeans(n_clusters=k)\n",
    "     kkkmeans.fit(X_scaled)\n",
    "     score = silhouette_score(X_scaled, kkkmeans.labels_)\n",
    "     silhouette_coefficients.append(score)"
   ]
  },
  {
   "cell_type": "markdown",
   "metadata": {},
   "source": [
    "We plot the Silhouette score as a function of k"
   ]
  },
  {
   "cell_type": "code",
   "execution_count": 45,
   "metadata": {},
   "outputs": [
    {
     "data": {
      "text/plain": [
       "Text(0, 0.5, 'Average Silhouette coefficients')"
      ]
     },
     "execution_count": 45,
     "metadata": {},
     "output_type": "execute_result"
    },
    {
     "data": {
      "image/png": "[encoded data removed]",
      "text/plain": [
       "<Figure size 1728x504 with 1 Axes>"
      ]
     },
     "metadata": {
      "needs_background": "light"
     },
     "output_type": "display_data"
    }
   ],
   "source": [
    "fig, ax = plt.subplots(figsize = (24, 7))\n",
    "\n",
    "# these lines are the graph of SSEvsK\n",
    "ax.scatter(range(2, 20), silhouette_coefficients)            \n",
    "ax.set_xticks(range(2, 20))\n",
    "ax.set_xlabel(\"Number of clusters\")\n",
    "ax.set_ylabel(\"Average Silhouette coefficients\")"
   ]
  }
 ],
 "metadata": {
  "colab": {
   "collapsed_sections": [],
   "name": "Clase07-05_parte1.ipynb",
   "provenance": []
  },
  "kernelspec": {
   "display_name": "Python 3",
   "language": "python",
   "name": "python3"
  },
  "language_info": {
   "codemirror_mode": {
    "name": "ipython",
    "version": 3
   },
   "file_extension": ".py",
   "mimetype": "text/x-python",
   "name": "python",
   "nbconvert_exporter": "python",
   "pygments_lexer": "ipython3",
   "version": "3.8.8"
  }
 },
 "nbformat": 4,
 "nbformat_minor": 4
}
