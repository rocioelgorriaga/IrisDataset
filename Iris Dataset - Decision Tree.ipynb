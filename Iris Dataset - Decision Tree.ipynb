{
 "cells": [
  {
   "cell_type": "markdown",
   "metadata": {
    "id": "A6ofV6HC_ScT"
   },
   "source": [
    "# Iris Dataset with the Desition Tree Classifier\n",
    "Like many machine-learning algorithms, decision trees can be used for both classification and regression problems. When we implement the trees for regression, each time a new branch is created, the predicted value for the dependent variable will be the average of the observations that fall within it. Thus, the criterion to separate will be the one that minimizes the error between the real values and the predicted value."
   ]
  },
  {
   "cell_type": "markdown",
   "metadata": {
    "id": "CTa23lYdEML5"
   },
   "source": [
    "### Load dataset\n"
   ]
  },
  {
   "cell_type": "code",
   "execution_count": 113,
   "metadata": {
    "colab": {
     "base_uri": "https://localhost:8080/"
    },
    "id": "qOOm67sfHF1P",
    "outputId": "19a612b1-6433-466d-ffe4-8beeee9dee6d"
   },
   "outputs": [],
   "source": [
    "# General libraries and drive mounting\n",
    "import pandas as pd \n",
    "import matplotlib.pyplot as plt \n",
    "import numpy as np \n",
    "import seaborn as sns"
   ]
  },
  {
   "cell_type": "markdown",
   "metadata": {
    "id": "77gF7-naF4C8"
   },
   "source": [
    "Scikit-learn modules for classification trees and metrics to evaluate our model:"
   ]
  },
  {
   "cell_type": "code",
   "execution_count": 114,
   "metadata": {
    "id": "LpBNdB5nGJsL"
   },
   "outputs": [],
   "source": [
    "# Specific modules for decision trees\n",
    "from sklearn.tree import DecisionTreeClassifier # Arboles de decisión para regresión\n",
    "from sklearn.tree import plot_tree # Función para visualizar el árbol\n",
    "\n",
    "# Módulos utiles para evaluar el modelo \n",
    "from sklearn.model_selection import train_test_split # Para separar en train y test\n",
    "from sklearn.metrics import plot_confusion_matrix"
   ]
  },
  {
   "cell_type": "code",
   "execution_count": 115,
   "metadata": {},
   "outputs": [],
   "source": [
    "from sklearn.datasets import load_iris\n",
    "data = load_iris()\n",
    "species = [data['target_names'][x] for x in data['target']]\n",
    "df = pd.DataFrame(np.column_stack([data['data'], species]), columns=data['feature_names'] + ['species'])"
   ]
  },
  {
   "cell_type": "code",
   "execution_count": null,
   "metadata": {},
   "outputs": [],
   "source": []
  },
  {
   "cell_type": "markdown",
   "metadata": {},
   "source": [
    "## Exploratory Data Analysis"
   ]
  },
  {
   "cell_type": "code",
   "execution_count": 116,
   "metadata": {
    "colab": {
     "base_uri": "https://localhost:8080/",
     "height": 224
    },
    "id": "OIrIx7mRHrrd",
    "outputId": "bd4c4798-02bd-4258-8b8e-bfcd62729d52"
   },
   "outputs": [
    {
     "name": "stdout",
     "output_type": "stream",
     "text": [
      "Dimension of the dataset: (150, 5)\n"
     ]
    },
    {
     "data": {
      "text/html": [
       "<div>\n",
       "<style scoped>\n",
       "    .dataframe tbody tr th:only-of-type {\n",
       "        vertical-align: middle;\n",
       "    }\n",
       "\n",
       "    .dataframe tbody tr th {\n",
       "        vertical-align: top;\n",
       "    }\n",
       "\n",
       "    .dataframe thead th {\n",
       "        text-align: right;\n",
       "    }\n",
       "</style>\n",
       "<table border=\"1\" class=\"dataframe\">\n",
       "  <thead>\n",
       "    <tr style=\"text-align: right;\">\n",
       "      <th></th>\n",
       "      <th>sepal length (cm)</th>\n",
       "      <th>sepal width (cm)</th>\n",
       "      <th>petal length (cm)</th>\n",
       "      <th>petal width (cm)</th>\n",
       "      <th>species</th>\n",
       "    </tr>\n",
       "  </thead>\n",
       "  <tbody>\n",
       "    <tr>\n",
       "      <th>0</th>\n",
       "      <td>5.1</td>\n",
       "      <td>3.5</td>\n",
       "      <td>1.4</td>\n",
       "      <td>0.2</td>\n",
       "      <td>setosa</td>\n",
       "    </tr>\n",
       "    <tr>\n",
       "      <th>1</th>\n",
       "      <td>4.9</td>\n",
       "      <td>3.0</td>\n",
       "      <td>1.4</td>\n",
       "      <td>0.2</td>\n",
       "      <td>setosa</td>\n",
       "    </tr>\n",
       "    <tr>\n",
       "      <th>2</th>\n",
       "      <td>4.7</td>\n",
       "      <td>3.2</td>\n",
       "      <td>1.3</td>\n",
       "      <td>0.2</td>\n",
       "      <td>setosa</td>\n",
       "    </tr>\n",
       "    <tr>\n",
       "      <th>3</th>\n",
       "      <td>4.6</td>\n",
       "      <td>3.1</td>\n",
       "      <td>1.5</td>\n",
       "      <td>0.2</td>\n",
       "      <td>setosa</td>\n",
       "    </tr>\n",
       "    <tr>\n",
       "      <th>4</th>\n",
       "      <td>5.0</td>\n",
       "      <td>3.6</td>\n",
       "      <td>1.4</td>\n",
       "      <td>0.2</td>\n",
       "      <td>setosa</td>\n",
       "    </tr>\n",
       "    <tr>\n",
       "      <th>...</th>\n",
       "      <td>...</td>\n",
       "      <td>...</td>\n",
       "      <td>...</td>\n",
       "      <td>...</td>\n",
       "      <td>...</td>\n",
       "    </tr>\n",
       "    <tr>\n",
       "      <th>95</th>\n",
       "      <td>5.7</td>\n",
       "      <td>3.0</td>\n",
       "      <td>4.2</td>\n",
       "      <td>1.2</td>\n",
       "      <td>versicolor</td>\n",
       "    </tr>\n",
       "    <tr>\n",
       "      <th>96</th>\n",
       "      <td>5.7</td>\n",
       "      <td>2.9</td>\n",
       "      <td>4.2</td>\n",
       "      <td>1.3</td>\n",
       "      <td>versicolor</td>\n",
       "    </tr>\n",
       "    <tr>\n",
       "      <th>97</th>\n",
       "      <td>6.2</td>\n",
       "      <td>2.9</td>\n",
       "      <td>4.3</td>\n",
       "      <td>1.3</td>\n",
       "      <td>versicolor</td>\n",
       "    </tr>\n",
       "    <tr>\n",
       "      <th>98</th>\n",
       "      <td>5.1</td>\n",
       "      <td>2.5</td>\n",
       "      <td>3.0</td>\n",
       "      <td>1.1</td>\n",
       "      <td>versicolor</td>\n",
       "    </tr>\n",
       "    <tr>\n",
       "      <th>99</th>\n",
       "      <td>5.7</td>\n",
       "      <td>2.8</td>\n",
       "      <td>4.1</td>\n",
       "      <td>1.3</td>\n",
       "      <td>versicolor</td>\n",
       "    </tr>\n",
       "  </tbody>\n",
       "</table>\n",
       "<p>100 rows × 5 columns</p>\n",
       "</div>"
      ],
      "text/plain": [
       "   sepal length (cm) sepal width (cm) petal length (cm) petal width (cm)  \\\n",
       "0                5.1              3.5               1.4              0.2   \n",
       "1                4.9              3.0               1.4              0.2   \n",
       "2                4.7              3.2               1.3              0.2   \n",
       "3                4.6              3.1               1.5              0.2   \n",
       "4                5.0              3.6               1.4              0.2   \n",
       "..               ...              ...               ...              ...   \n",
       "95               5.7              3.0               4.2              1.2   \n",
       "96               5.7              2.9               4.2              1.3   \n",
       "97               6.2              2.9               4.3              1.3   \n",
       "98               5.1              2.5               3.0              1.1   \n",
       "99               5.7              2.8               4.1              1.3   \n",
       "\n",
       "       species  \n",
       "0       setosa  \n",
       "1       setosa  \n",
       "2       setosa  \n",
       "3       setosa  \n",
       "4       setosa  \n",
       "..         ...  \n",
       "95  versicolor  \n",
       "96  versicolor  \n",
       "97  versicolor  \n",
       "98  versicolor  \n",
       "99  versicolor  \n",
       "\n",
       "[100 rows x 5 columns]"
      ]
     },
     "execution_count": 116,
     "metadata": {},
     "output_type": "execute_result"
    }
   ],
   "source": [
    "print('Dimension of the dataset: {}'.format(df.shape))\n",
    "# Preview of the data\n",
    "df.head(100)"
   ]
  },
  {
   "cell_type": "markdown",
   "metadata": {},
   "source": [
    "- There are 150 observations with 4 features each (sepal length, sepal width, petal length, petal width).\n",
    "- There are no null values, so we don't have to worry about that.\n",
    "- There are 50 observations of each species (setosa, versicolor, virginica).}\n",
    "\n"
   ]
  },
  {
   "cell_type": "code",
   "execution_count": 117,
   "metadata": {},
   "outputs": [
    {
     "name": "stdout",
     "output_type": "stream",
     "text": [
      "<class 'pandas.core.frame.DataFrame'>\n",
      "RangeIndex: 150 entries, 0 to 149\n",
      "Data columns (total 5 columns):\n",
      " #   Column             Non-Null Count  Dtype \n",
      "---  ------             --------------  ----- \n",
      " 0   sepal length (cm)  150 non-null    object\n",
      " 1   sepal width (cm)   150 non-null    object\n",
      " 2   petal length (cm)  150 non-null    object\n",
      " 3   petal width (cm)   150 non-null    object\n",
      " 4   species            150 non-null    object\n",
      "dtypes: object(5)\n",
      "memory usage: 6.0+ KB\n"
     ]
    }
   ],
   "source": [
    "df.info()"
   ]
  },
  {
   "cell_type": "code",
   "execution_count": 118,
   "metadata": {},
   "outputs": [
    {
     "data": {
      "text/html": [
       "<div>\n",
       "<style scoped>\n",
       "    .dataframe tbody tr th:only-of-type {\n",
       "        vertical-align: middle;\n",
       "    }\n",
       "\n",
       "    .dataframe tbody tr th {\n",
       "        vertical-align: top;\n",
       "    }\n",
       "\n",
       "    .dataframe thead th {\n",
       "        text-align: right;\n",
       "    }\n",
       "</style>\n",
       "<table border=\"1\" class=\"dataframe\">\n",
       "  <thead>\n",
       "    <tr style=\"text-align: right;\">\n",
       "      <th></th>\n",
       "      <th>sepal length (cm)</th>\n",
       "      <th>sepal width (cm)</th>\n",
       "      <th>petal length (cm)</th>\n",
       "      <th>petal width (cm)</th>\n",
       "      <th>species</th>\n",
       "    </tr>\n",
       "  </thead>\n",
       "  <tbody>\n",
       "    <tr>\n",
       "      <th>count</th>\n",
       "      <td>150</td>\n",
       "      <td>150</td>\n",
       "      <td>150</td>\n",
       "      <td>150</td>\n",
       "      <td>150</td>\n",
       "    </tr>\n",
       "    <tr>\n",
       "      <th>unique</th>\n",
       "      <td>35</td>\n",
       "      <td>23</td>\n",
       "      <td>43</td>\n",
       "      <td>22</td>\n",
       "      <td>3</td>\n",
       "    </tr>\n",
       "    <tr>\n",
       "      <th>top</th>\n",
       "      <td>5.0</td>\n",
       "      <td>3.0</td>\n",
       "      <td>1.5</td>\n",
       "      <td>0.2</td>\n",
       "      <td>virginica</td>\n",
       "    </tr>\n",
       "    <tr>\n",
       "      <th>freq</th>\n",
       "      <td>10</td>\n",
       "      <td>26</td>\n",
       "      <td>13</td>\n",
       "      <td>29</td>\n",
       "      <td>50</td>\n",
       "    </tr>\n",
       "  </tbody>\n",
       "</table>\n",
       "</div>"
      ],
      "text/plain": [
       "       sepal length (cm) sepal width (cm) petal length (cm) petal width (cm)  \\\n",
       "count                150              150               150              150   \n",
       "unique                35               23                43               22   \n",
       "top                  5.0              3.0               1.5              0.2   \n",
       "freq                  10               26                13               29   \n",
       "\n",
       "          species  \n",
       "count         150  \n",
       "unique          3  \n",
       "top     virginica  \n",
       "freq           50  "
      ]
     },
     "execution_count": 118,
     "metadata": {},
     "output_type": "execute_result"
    }
   ],
   "source": [
    "df.describe()"
   ]
  },
  {
   "cell_type": "code",
   "execution_count": 119,
   "metadata": {},
   "outputs": [
    {
     "data": {
      "text/html": [
       "<div>\n",
       "<style scoped>\n",
       "    .dataframe tbody tr th:only-of-type {\n",
       "        vertical-align: middle;\n",
       "    }\n",
       "\n",
       "    .dataframe tbody tr th {\n",
       "        vertical-align: top;\n",
       "    }\n",
       "\n",
       "    .dataframe thead th {\n",
       "        text-align: right;\n",
       "    }\n",
       "</style>\n",
       "<table border=\"1\" class=\"dataframe\">\n",
       "  <thead>\n",
       "    <tr style=\"text-align: right;\">\n",
       "      <th></th>\n",
       "      <th>variable</th>\n",
       "      <th>q_nan</th>\n",
       "      <th>p_nan</th>\n",
       "      <th>q_zeros</th>\n",
       "      <th>p_zeros</th>\n",
       "      <th>unique</th>\n",
       "      <th>type</th>\n",
       "    </tr>\n",
       "  </thead>\n",
       "  <tbody>\n",
       "    <tr>\n",
       "      <th>0</th>\n",
       "      <td>sepal length (cm)</td>\n",
       "      <td>0</td>\n",
       "      <td>0.0</td>\n",
       "      <td>0</td>\n",
       "      <td>0.0</td>\n",
       "      <td>35</td>\n",
       "      <td>object</td>\n",
       "    </tr>\n",
       "    <tr>\n",
       "      <th>1</th>\n",
       "      <td>sepal width (cm)</td>\n",
       "      <td>0</td>\n",
       "      <td>0.0</td>\n",
       "      <td>0</td>\n",
       "      <td>0.0</td>\n",
       "      <td>23</td>\n",
       "      <td>object</td>\n",
       "    </tr>\n",
       "    <tr>\n",
       "      <th>2</th>\n",
       "      <td>petal length (cm)</td>\n",
       "      <td>0</td>\n",
       "      <td>0.0</td>\n",
       "      <td>0</td>\n",
       "      <td>0.0</td>\n",
       "      <td>43</td>\n",
       "      <td>object</td>\n",
       "    </tr>\n",
       "    <tr>\n",
       "      <th>3</th>\n",
       "      <td>petal width (cm)</td>\n",
       "      <td>0</td>\n",
       "      <td>0.0</td>\n",
       "      <td>0</td>\n",
       "      <td>0.0</td>\n",
       "      <td>22</td>\n",
       "      <td>object</td>\n",
       "    </tr>\n",
       "    <tr>\n",
       "      <th>4</th>\n",
       "      <td>species</td>\n",
       "      <td>0</td>\n",
       "      <td>0.0</td>\n",
       "      <td>0</td>\n",
       "      <td>0.0</td>\n",
       "      <td>3</td>\n",
       "      <td>object</td>\n",
       "    </tr>\n",
       "  </tbody>\n",
       "</table>\n",
       "</div>"
      ],
      "text/plain": [
       "            variable  q_nan  p_nan  q_zeros  p_zeros  unique    type\n",
       "0  sepal length (cm)      0    0.0        0      0.0      35  object\n",
       "1   sepal width (cm)      0    0.0        0      0.0      23  object\n",
       "2  petal length (cm)      0    0.0        0      0.0      43  object\n",
       "3   petal width (cm)      0    0.0        0      0.0      22  object\n",
       "4            species      0    0.0        0      0.0       3  object"
      ]
     },
     "execution_count": 119,
     "metadata": {},
     "output_type": "execute_result"
    }
   ],
   "source": [
    "from funpymodeling.exploratory import status\n",
    "\n",
    "status(df)"
   ]
  },
  {
   "cell_type": "markdown",
   "metadata": {},
   "source": [
    "Analyze how many of each species we have to predict"
   ]
  },
  {
   "cell_type": "markdown",
   "metadata": {},
   "source": [
    "## Viz"
   ]
  },
  {
   "cell_type": "markdown",
   "metadata": {},
   "source": [
    "We create some variables"
   ]
  },
  {
   "cell_type": "code",
   "execution_count": 120,
   "metadata": {},
   "outputs": [],
   "source": [
    "spec = df['species'].value_counts()"
   ]
  },
  {
   "cell_type": "code",
   "execution_count": 121,
   "metadata": {},
   "outputs": [],
   "source": [
    "sp = df['sepal length (cm)'].value_counts()"
   ]
  },
  {
   "cell_type": "code",
   "execution_count": 122,
   "metadata": {},
   "outputs": [],
   "source": [
    "sw = df['sepal width (cm)'].value_counts()"
   ]
  },
  {
   "cell_type": "code",
   "execution_count": 123,
   "metadata": {},
   "outputs": [],
   "source": [
    "pl = df['petal length (cm)'].value_counts()"
   ]
  },
  {
   "cell_type": "code",
   "execution_count": 124,
   "metadata": {},
   "outputs": [],
   "source": [
    "pw = df['petal width (cm)'].value_counts()"
   ]
  },
  {
   "cell_type": "code",
   "execution_count": null,
   "metadata": {},
   "outputs": [],
   "source": []
  },
  {
   "cell_type": "code",
   "execution_count": 149,
   "metadata": {},
   "outputs": [
    {
     "data": {
      "text/plain": [
       "Text(0.5, 1.0, 'Number of samples per species')"
      ]
     },
     "execution_count": 149,
     "metadata": {},
     "output_type": "execute_result"
    },
    {
     "data": {
      "image/png": "[encoded data removed]",
      "text/plain": [
       "<Figure size 720x360 with 1 Axes>"
      ]
     },
     "metadata": {
      "needs_background": "light"
     },
     "output_type": "display_data"
    }
   ],
   "source": [
    "plt.figure(figsize=(10,5))\n",
    "plot = sns.barplot(x=spec.head(3).index, y=spec, palette=\"husl\")\n",
    "plot.set_xticklabels(plot.get_xticklabels(), rotation=0, horizontalalignment='right')\n",
    "plot.set_title(\"Number of samples per species\", fontsize=20)"
   ]
  },
  {
   "cell_type": "code",
   "execution_count": 150,
   "metadata": {},
   "outputs": [
    {
     "data": {
      "text/plain": [
       "Text(0.5, 1.0, 'Species & their sepal length (cm)')"
      ]
     },
     "execution_count": 150,
     "metadata": {},
     "output_type": "execute_result"
    },
    {
     "data": {
      "image/png": "[encoded data removed]",
      "text/plain": [
       "<Figure size 720x360 with 1 Axes>"
      ]
     },
     "metadata": {
      "needs_background": "light"
     },
     "output_type": "display_data"
    }
   ],
   "source": [
    "plt.figure(figsize=(10,5))\n",
    "plot = sns.barplot(x=spec.head(3).index, y=sp.head(3).index, palette=\"husl\")\n",
    "plot.set_xticklabels(plot.get_xticklabels(), rotation=0, horizontalalignment='right')\n",
    "plot.set_title(\"Species & their sepal length (cm)\", fontsize=20)"
   ]
  },
  {
   "cell_type": "code",
   "execution_count": 155,
   "metadata": {},
   "outputs": [
    {
     "data": {
      "text/plain": [
       "Text(0.5, 1.0, 'Species & their sepal width (cm)')"
      ]
     },
     "execution_count": 155,
     "metadata": {},
     "output_type": "execute_result"
    },
    {
     "data": {
      "image/png": "[encoded data removed]",
      "text/plain": [
       "<Figure size 720x360 with 1 Axes>"
      ]
     },
     "metadata": {
      "needs_background": "light"
     },
     "output_type": "display_data"
    }
   ],
   "source": [
    "plt.figure(figsize=(10,5))\n",
    "plot = sns.barplot(x=spec.head(3).index, y=sw.head(3).index, palette=\"husl\")\n",
    "plot.set_xticklabels(plot.get_xticklabels(), rotation=0, horizontalalignment='right')\n",
    "plot.set_title(\"Species & their sepal width (cm)\", fontsize=20)"
   ]
  },
  {
   "cell_type": "code",
   "execution_count": 152,
   "metadata": {},
   "outputs": [
    {
     "data": {
      "text/plain": [
       "Text(0.5, 1.0, 'Species & their petal lenght (cm)')"
      ]
     },
     "execution_count": 152,
     "metadata": {},
     "output_type": "execute_result"
    },
    {
     "data": {
      "image/png": "[encoded data removed]",
      "text/plain": [
       "<Figure size 720x360 with 1 Axes>"
      ]
     },
     "metadata": {
      "needs_background": "light"
     },
     "output_type": "display_data"
    }
   ],
   "source": [
    "plt.figure(figsize=(10,5))\n",
    "plot = sns.barplot(x=spec.head(3).index, y=pl.head(3).index, palette=\"husl\")\n",
    "plot.set_xticklabels(plot.get_xticklabels(), rotation=0, horizontalalignment='right')\n",
    "plot.set_title(\"Species & their petal lenght (cm)\", fontsize=20)"
   ]
  },
  {
   "cell_type": "code",
   "execution_count": 153,
   "metadata": {},
   "outputs": [
    {
     "data": {
      "text/plain": [
       "Text(0.5, 1.0, 'Species & their petal width (cm)')"
      ]
     },
     "execution_count": 153,
     "metadata": {},
     "output_type": "execute_result"
    },
    {
     "data": {
      "image/png": "[encoded data removed]",
      "text/plain": [
       "<Figure size 720x360 with 1 Axes>"
      ]
     },
     "metadata": {
      "needs_background": "light"
     },
     "output_type": "display_data"
    }
   ],
   "source": [
    "plt.figure(figsize=(10,5))\n",
    "plot = sns.barplot(x=spec.head(3).index, y=pw.head(3).index, palette=\"husl\")\n",
    "plot.set_xticklabels(plot.get_xticklabels(), rotation=0, horizontalalignment='right')\n",
    "plot.set_title(\"Species & their petal width (cm)\", fontsize=20)"
   ]
  },
  {
   "cell_type": "code",
   "execution_count": null,
   "metadata": {},
   "outputs": [],
   "source": []
  },
  {
   "cell_type": "markdown",
   "metadata": {
    "id": "6tnyQs2sMRaP"
   },
   "source": [
    "## Construction of the model: Decision Tree\n"
   ]
  },
  {
   "cell_type": "markdown",
   "metadata": {
    "id": "jotmNl8BNlIt"
   },
   "source": [
    "### Preprocessing: feature selection and separation in training and testing"
   ]
  },
  {
   "cell_type": "code",
   "execution_count": 5,
   "metadata": {},
   "outputs": [
    {
     "data": {
      "text/plain": [
       "Index(['sepal length (cm)', 'sepal width (cm)', 'petal length (cm)',\n",
       "       'petal width (cm)', 'species'],\n",
       "      dtype='object')"
      ]
     },
     "execution_count": 5,
     "metadata": {},
     "output_type": "execute_result"
    }
   ],
   "source": [
    "df.columns"
   ]
  },
  {
   "cell_type": "code",
   "execution_count": 156,
   "metadata": {
    "scrolled": true
   },
   "outputs": [
    {
     "name": "stdout",
     "output_type": "stream",
     "text": [
      "Labels ['setosa' 'versicolor' 'virginica']\n",
      "Frequencies [50 50 50]\n"
     ]
    }
   ],
   "source": [
    "labels, counts = np.unique(df['species'], return_counts=True) # Función que devuelve las etiquetas y las frecuencias\n",
    "\n",
    "print('Labels {}'.format(labels))\n",
    "print('Frequencies {}'.format(counts))"
   ]
  },
  {
   "cell_type": "markdown",
   "metadata": {},
   "source": [
    "We separate our data into train and test. We will use a partition of 80% and 20% respectively"
   ]
  },
  {
   "cell_type": "code",
   "execution_count": 157,
   "metadata": {
    "colab": {
     "base_uri": "https://localhost:8080/"
    },
    "id": "yhXZBrlhH-jc",
    "outputId": "4a1c4b6b-db6d-445e-83cd-13643048296d"
   },
   "outputs": [
    {
     "name": "stdout",
     "output_type": "stream",
     "text": [
      "Dimension of the matrix of features for training: (120, 4)\n",
      "Dimension of the matrix of features for test: (30, 4)\n"
     ]
    }
   ],
   "source": [
    "random_seed = 7\n",
    "# Features we are gonna consider \n",
    "features = ['sepal length (cm)', 'sepal width (cm)', 'petal length (cm)', 'petal width (cm)']\n",
    "\n",
    "# Variable we will predict\n",
    "target = 'species'\n",
    "\n",
    "# Construction of the matriz of features\n",
    "X = df[features].to_numpy()\n",
    "\n",
    "# Construction of the vector we are gonna predict\n",
    "y = df[target].to_numpy()\n",
    "\n",
    "# Creation of training and testing matrices\n",
    "X_train, X_test, y_train, y_test = train_test_split(X, y, test_size = 0.20, random_state=random_seed)\n",
    "print('Dimension of the matrix of features for training: {}'.format(X_train.shape))\n",
    "print('Dimension of the matrix of features for test: {}'.format(X_test.shape))"
   ]
  },
  {
   "cell_type": "markdown",
   "metadata": {
    "id": "Xg4j4isZPdsx"
   },
   "source": [
    "### [Create and fit the model](https://scikit-learn.org/stable/modules/generated/sklearn.tree.DecisionTreeRegressor.html?highlight=decision%20tree%20regressor)\n",
    "\n",
    "Here we effectively create the classification tree. We are going to start by creating a tree with a depth equal to 2 and then we are going to play with the different parameters.\n",
    "\n",
    "Like all models in * scikit-learn * there is a line that refers to the construction of the model, another to training, and then we can predict or see the performance of the model."
   ]
  },
  {
   "cell_type": "code",
   "execution_count": 160,
   "metadata": {
    "colab": {
     "base_uri": "https://localhost:8080/"
    },
    "id": "LuKZyat5Qkpm",
    "outputId": "57b10e4c-f014-4ec1-a2fa-503c08da032d"
   },
   "outputs": [
    {
     "name": "stdout",
     "output_type": "stream",
     "text": [
      "Score in the training set: 0.9833333333333333\n",
      "Score in the test set: 0.8666666666666667\n"
     ]
    }
   ],
   "source": [
    "# Train the model with the fit model\n",
    "# Train the model\n",
    "arbol = DecisionTreeClassifier(max_leaf_nodes = 3)\n",
    "arbol.fit(X_train, y_train)\n",
    "\n",
    "# Score del modelo en el conjunto de entrenamiento \n",
    "score_in_train = arbol.score(X_train, y_train)\n",
    "\n",
    "# Score del modelo en el conjunto de testeo\n",
    "score_in_test = arbol.score(X_test, y_test)\n",
    "\n",
    "print('Score in the training set: {}'.format(score_in_train))\n",
    "print('Score in the test set: {}'.format(score_in_test))"
   ]
  },
  {
   "cell_type": "code",
   "execution_count": 161,
   "metadata": {
    "colab": {
     "base_uri": "https://localhost:8080/"
    },
    "id": "n79jJnT3LJp1",
    "outputId": "d0f1be20-dd1a-4402-f7e5-c0f1f0e4154c"
   },
   "outputs": [
    {
     "name": "stdout",
     "output_type": "stream",
     "text": [
      "Score in the training set: 0.9833333333333333\n"
     ]
    }
   ],
   "source": [
    "# Model score in the training data (we always expect it to be high here)\n",
    "score_in_train = arbol.score(X_train, y_train)\n",
    "\n",
    "print('Score in the training set: {}'.format(score_in_train))"
   ]
  },
  {
   "cell_type": "code",
   "execution_count": 162,
   "metadata": {
    "colab": {
     "base_uri": "https://localhost:8080/"
    },
    "id": "qsna0bX7LXzl",
    "outputId": "7b88b9ac-a569-4591-99cd-5d6d3cd26ed6"
   },
   "outputs": [
    {
     "name": "stdout",
     "output_type": "stream",
     "text": [
      "Score in the test set: 0.8666666666666667\n"
     ]
    }
   ],
   "source": [
    "# Score of the model in the test data\n",
    "# (here it can fluctuate but in general it is low compared to the training data)\n",
    "score_in_test = arbol.score(X_test, y_test)\n",
    "\n",
    "print('Score in the test set: {}'.format(score_in_test))"
   ]
  },
  {
   "cell_type": "markdown",
   "metadata": {
    "id": "AKK23HXrRg3w"
   },
   "source": [
    "## Visualization of the tree\n",
    "\n",
    "Here we are going to visualize the tree. For small trees it is good, for large trees you have to adjust the sizes of the figures well."
   ]
  },
  {
   "cell_type": "code",
   "execution_count": 163,
   "metadata": {
    "colab": {
     "base_uri": "https://localhost:8080/",
     "height": 734
    },
    "id": "uVyFXS1WMIHS",
    "outputId": "d2547166-4747-4a29-d6da-cbbfc4ef22e8"
   },
   "outputs": [
    {
     "data": {
      "text/plain": [
       "[Text(334.8, 362.4, 'petal width (cm) <= 0.8\\ngini = 0.666\\nsamples = 120\\nvalue = [43, 38, 39]'),\n",
       " Text(167.4, 217.44, 'gini = 0.0\\nsamples = 43\\nvalue = [43, 0, 0]'),\n",
       " Text(502.20000000000005, 217.44, 'petal width (cm) <= 1.7\\ngini = 0.5\\nsamples = 77\\nvalue = [0, 38, 39]'),\n",
       " Text(334.8, 72.47999999999996, 'gini = 0.095\\nsamples = 40\\nvalue = [0, 38, 2]'),\n",
       " Text(669.6, 72.47999999999996, 'gini = 0.0\\nsamples = 37\\nvalue = [0, 0, 37]')]"
      ]
     },
     "execution_count": 163,
     "metadata": {},
     "output_type": "execute_result"
    },
    {
     "data": {
      "image/png": "[encoded data removed]",
      "text/plain": [
       "<Figure size 1080x576 with 1 Axes>"
      ]
     },
     "metadata": {
      "needs_background": "light"
     },
     "output_type": "display_data"
    }
   ],
   "source": [
    "# We create the figure where to plot the tree with matplotlib\n",
    "fig, ax = plt.subplots(figsize = (15, 8))\n",
    "\n",
    "# We call the \"plot_tree\" function that we imported from sklearn.tree above.\n",
    "# We pass the model we create and the name of the features as an argument.\n",
    "# \"fontsize\" and \"filled\" are just display settings\n",
    "# and we tell him to plot the tree in the figure we create\n",
    "plot_tree(arbol, feature_names=features, fontsize = 12, filled = True, ax = ax)"
   ]
  },
  {
   "cell_type": "markdown",
   "metadata": {
    "id": "DLNrvaigwpPP"
   },
   "source": [
    "**How do we interpret this graph?**\n",
    "\n",
    "- The tree is read from top to bottom.\n",
    "- Each node represents a question that is answered with **true** and **false**: if it is true, we take the branch on the left; if it is false, the one on the right.\n",
    "- The question is marked by the first line in each block.\n"
   ]
  },
  {
   "cell_type": "code",
   "execution_count": 17,
   "metadata": {},
   "outputs": [
    {
     "data": {
      "image/png": "[encoded data removed]",
      "text/plain": [
       "<Figure size 432x288 with 2 Axes>"
      ]
     },
     "metadata": {
      "needs_background": "light"
     },
     "output_type": "display_data"
    }
   ],
   "source": [
    "plot_confusion_matrix(arbol, X_test, y_test)  \n",
    "plt.show()"
   ]
  },
  {
   "cell_type": "code",
   "execution_count": 165,
   "metadata": {},
   "outputs": [
    {
     "name": "stdout",
     "output_type": "stream",
     "text": [
      "Features: ['sepal length (cm)', 'sepal width (cm)', 'petal length (cm)', 'petal width (cm)']\n",
      "Importance = [0. 0. 0. 1.]\n"
     ]
    }
   ],
   "source": [
    "# This attribute has a measure of the importance of each feature\n",
    "feature_importance = arbol.feature_importances_ \n",
    "\n",
    "print('Features: {}'.format(features))\n",
    "print('Importance = {}'.format(feature_importance))"
   ]
  },
  {
   "cell_type": "markdown",
   "metadata": {},
   "source": [
    "The most important fetaure is the petal with (cm) according to this measure of the importance of each feature."
   ]
  },
  {
   "cell_type": "code",
   "execution_count": null,
   "metadata": {},
   "outputs": [],
   "source": []
  }
 ],
 "metadata": {
  "colab": {
   "collapsed_sections": [],
   "name": "Clase07-05_parte1.ipynb",
   "provenance": []
  },
  "kernelspec": {
   "display_name": "Python 3",
   "language": "python",
   "name": "python3"
  },
  "language_info": {
   "codemirror_mode": {
    "name": "ipython",
    "version": 3
   },
   "file_extension": ".py",
   "mimetype": "text/x-python",
   "name": "python",
   "nbconvert_exporter": "python",
   "pygments_lexer": "ipython3",
   "version": "3.8.8"
  }
 },
 "nbformat": 4,
 "nbformat_minor": 4
}
